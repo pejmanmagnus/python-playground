{
 "cells": [
  {
   "cell_type": "code",
   "execution_count": 1,
   "metadata": {},
   "outputs": [
    {
     "name": "stdout",
     "output_type": "stream",
     "text": [
      "aaaaaaaaaaaaaaaaaaaaa\n"
     ]
    }
   ],
   "source": [
    "print('a' * 21)"
   ]
  },
  {
   "cell_type": "code",
   "execution_count": 2,
   "metadata": {},
   "outputs": [
    {
     "name": "stdout",
     "output_type": "stream",
     "text": [
      "Hi Pezhman\n"
     ]
    }
   ],
   "source": [
    "name = input('What is your name? ')\n",
    "print('Hi ' + name)"
   ]
  },
  {
   "cell_type": "code",
   "execution_count": 3,
   "metadata": {},
   "outputs": [
    {
     "name": "stdout",
     "output_type": "stream",
     "text": [
      "  \n",
      "Hi, pezhman.\n",
      "\n",
      "\n",
      "This is your first try, dont bother yourself.\n",
      "\n",
      "It is enogh to be paitent.\n",
      "\n",
      "\n"
     ]
    }
   ],
   "source": [
    "message = '''  \n",
    "Hi, pezhman.\n",
    "\n",
    "\n",
    "This is your first try, dont bother yourself.\n",
    "\n",
    "It is enogh to be paitent.\n",
    "\n",
    "'''\n",
    "print(message)"
   ]
  },
  {
   "cell_type": "code",
   "execution_count": 11,
   "metadata": {},
   "outputs": [
    {
     "name": "stdout",
     "output_type": "stream",
     "text": [
      "Pezhman\n"
     ]
    }
   ],
   "source": [
    "full_name = 'Pezhman Hami'\n",
    "print(full_name[0:7])"
   ]
  },
  {
   "cell_type": "code",
   "execution_count": 17,
   "metadata": {},
   "outputs": [
    {
     "name": "stdout",
     "output_type": "stream",
     "text": [
      "12\n",
      "PEZHMAN HAMI\n",
      "pezhman hami\n",
      "Pouya Hami\n",
      "True\n",
      "False\n"
     ]
    }
   ],
   "source": [
    "full_name = 'Pezhman Hami'\n",
    "print(len(full_name))\n",
    "print(full_name.upper())\n",
    "print(full_name.lower())\n",
    "print(full_name.replace('Pezhman', 'Pouya'))\n",
    "print('Pezhman' in full_name)\n",
    "print('Pouya' in full_name)"
   ]
  },
  {
   "cell_type": "code",
   "execution_count": 23,
   "metadata": {},
   "outputs": [
    {
     "name": "stdout",
     "output_type": "stream",
     "text": [
      "-2\n",
      "2.3\n"
     ]
    }
   ],
   "source": [
    "x = -2.3 \n",
    "print(round(x))\n",
    "print(abs(x))"
   ]
  },
  {
   "cell_type": "code",
   "execution_count": 28,
   "metadata": {},
   "outputs": [
    {
     "name": "stdout",
     "output_type": "stream",
     "text": [
      "3\n",
      "2\n",
      "5040\n"
     ]
    }
   ],
   "source": [
    "import math as m\n",
    "\n",
    "x = 2.9 \n",
    "print(m.ceil(x))\n",
    "print(m.floor(x))\n",
    "print(m.factorial(7))"
   ]
  },
  {
   "cell_type": "code",
   "execution_count": null,
   "metadata": {},
   "outputs": [],
   "source": []
  }
 ],
 "metadata": {
  "kernelspec": {
   "display_name": "Python 3",
   "language": "python",
   "name": "python3"
  },
  "language_info": {
   "codemirror_mode": {
    "name": "ipython",
    "version": 3
   },
   "file_extension": ".py",
   "mimetype": "text/x-python",
   "name": "python",
   "nbconvert_exporter": "python",
   "pygments_lexer": "ipython3",
   "version": "3.12.3"
  }
 },
 "nbformat": 4,
 "nbformat_minor": 2
}
